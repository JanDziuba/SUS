{
 "cells": [
  {
   "cell_type": "markdown",
   "metadata": {},
   "source": [
    "Load data"
   ]
  },
  {
   "cell_type": "code",
   "execution_count": 2,
   "metadata": {},
   "outputs": [
    {
     "data": {
      "text/html": [
       "<div>\n",
       "<style scoped>\n",
       "    .dataframe tbody tr th:only-of-type {\n",
       "        vertical-align: middle;\n",
       "    }\n",
       "\n",
       "    .dataframe tbody tr th {\n",
       "        vertical-align: top;\n",
       "    }\n",
       "\n",
       "    .dataframe thead th {\n",
       "        text-align: right;\n",
       "    }\n",
       "</style>\n",
       "<table border=\"1\" class=\"dataframe\">\n",
       "  <thead>\n",
       "    <tr style=\"text-align: right;\">\n",
       "      <th></th>\n",
       "      <th>user_id</th>\n",
       "      <th>movie_id</th>\n",
       "      <th>rating</th>\n",
       "    </tr>\n",
       "  </thead>\n",
       "  <tbody>\n",
       "    <tr>\n",
       "      <th>0</th>\n",
       "      <td>196</td>\n",
       "      <td>242</td>\n",
       "      <td>3</td>\n",
       "    </tr>\n",
       "    <tr>\n",
       "      <th>1</th>\n",
       "      <td>186</td>\n",
       "      <td>302</td>\n",
       "      <td>3</td>\n",
       "    </tr>\n",
       "    <tr>\n",
       "      <th>2</th>\n",
       "      <td>22</td>\n",
       "      <td>377</td>\n",
       "      <td>1</td>\n",
       "    </tr>\n",
       "    <tr>\n",
       "      <th>3</th>\n",
       "      <td>244</td>\n",
       "      <td>51</td>\n",
       "      <td>2</td>\n",
       "    </tr>\n",
       "    <tr>\n",
       "      <th>4</th>\n",
       "      <td>166</td>\n",
       "      <td>346</td>\n",
       "      <td>1</td>\n",
       "    </tr>\n",
       "  </tbody>\n",
       "</table>\n",
       "</div>"
      ],
      "text/plain": [
       "   user_id  movie_id  rating\n",
       "0      196       242       3\n",
       "1      186       302       3\n",
       "2       22       377       1\n",
       "3      244        51       2\n",
       "4      166       346       1"
      ]
     },
     "execution_count": 2,
     "metadata": {},
     "output_type": "execute_result"
    }
   ],
   "source": [
    "import pandas as pd\n",
    "\n",
    "ratings = pd.read_csv(\"ml-100k/u.data\",\n",
    "    sep=\"\\t\",\n",
    "    usecols=[0, 1, 2],\n",
    "    names=['user_id', 'movie_id', 'rating'])\n",
    "\n",
    "ratings.head()"
   ]
  },
  {
   "cell_type": "markdown",
   "metadata": {},
   "source": [
    "Get `users_count`, `movies_count`"
   ]
  },
  {
   "cell_type": "code",
   "execution_count": 3,
   "metadata": {},
   "outputs": [
    {
     "data": {
      "text/plain": [
       "(943, 1682)"
      ]
     },
     "execution_count": 3,
     "metadata": {},
     "output_type": "execute_result"
    }
   ],
   "source": [
    "users_count = ratings['user_id'].nunique()\n",
    "movies_count = ratings['movie_id'].nunique()\n",
    "\n",
    "users_count, movies_count"
   ]
  },
  {
   "cell_type": "markdown",
   "metadata": {},
   "source": [
    "Split training from testing data"
   ]
  },
  {
   "cell_type": "code",
   "execution_count": 4,
   "metadata": {},
   "outputs": [],
   "source": [
    "train_ratio = 0.8\n",
    "\n",
    "train_ratings = ratings.sample(frac=train_ratio)\n",
    "test_ratings = ratings.drop(train_ratings.index).sample(frac=1.0)"
   ]
  },
  {
   "cell_type": "markdown",
   "metadata": {},
   "source": [
    "Create `ratings_matrix`.  \n",
    "`ratings_matrix[i][j]` = `i`-th user's rating for `j`-th movie."
   ]
  },
  {
   "cell_type": "code",
   "execution_count": 5,
   "metadata": {},
   "outputs": [],
   "source": [
    "import numpy as np\n",
    "\n",
    "\n",
    "# movies and users indexed from 1\n",
    "ratings_matrix = np.zeros((users_count+1, movies_count+1), dtype=float)\n",
    "\n",
    "def insert_rating_into_matrix(ratings_row):\n",
    "    user_id = ratings_row[1]\n",
    "    movie_id = ratings_row[2]\n",
    "    rating = ratings_row[3]\n",
    "\n",
    "    ratings_matrix[user_id][movie_id] = rating\n",
    "\n",
    "\n",
    "for ratings_row in train_ratings.itertuples():\n",
    "    insert_rating_into_matrix(ratings_row)"
   ]
  },
  {
   "cell_type": "markdown",
   "metadata": {},
   "source": [
    "Create `sorted_neighbors`.  \n",
    "`sorted_neighbors[i][j]` = `i`-th user's `j`-th neighbour by cosine distance."
   ]
  },
  {
   "cell_type": "code",
   "execution_count": 41,
   "metadata": {},
   "outputs": [
    {
     "data": {
      "text/plain": [
       "array([[  0,   0,   0, ...,   0,   0,   0],\n",
       "       [864, 916, 738, ..., 811, 688, 547],\n",
       "       [701, 460, 104, ..., 516, 366, 135],\n",
       "       ...,\n",
       "       [ 32, 582, 742, ..., 235, 519, 553],\n",
       "       [ 91, 263, 313, ..., 662, 369, 242],\n",
       "       [301, 682, 551, ..., 258, 845, 170]])"
      ]
     },
     "execution_count": 41,
     "metadata": {},
     "output_type": "execute_result"
    }
   ],
   "source": [
    "from scipy import spatial\n",
    "\n",
    "def get_distances(user1_ratings, ratings_matrix):\n",
    "    return spatial.distance.cdist(user1_ratings, ratings_matrix, \n",
    "        metric='cosine')\n",
    "\n",
    "\n",
    "def get_sorted_neighbors_for_user(ratings_matrix, user_id):\n",
    "    distances = get_distances(ratings_matrix[user_id].reshape((1,-1)), \n",
    "        ratings_matrix[1:]).reshape(-1)\n",
    "\n",
    "    indexes = np.arange(1, users_count+1)\n",
    "\n",
    "    indexed_distances = np.stack((indexes, distances), axis=1)\n",
    "\n",
    "    sorted_distances = indexed_distances[indexed_distances[:, 1].argsort()]\n",
    "\n",
    "    # remove distance from user to himself\n",
    "    sorted_distances =  np.delete(sorted_distances, 0, axis=0)\n",
    "\n",
    "    sorted_indexes = np.delete(sorted_distances, 1, axis=1).reshape(-1).astype(int)\n",
    "\n",
    "    return sorted_indexes\n",
    "\n",
    "\n",
    "def get_sorted_neighbors_for_users(ratings_matrix):\n",
    "    neighbors = np.zeros((users_count+1, users_count-1), dtype=int)\n",
    "\n",
    "    for user_id in range (1, users_count+1):\n",
    "        neighbors[user_id, :] = get_sorted_neighbors_for_user(ratings_matrix, user_id)\n",
    "\n",
    "    return neighbors\n",
    "\n",
    "\n",
    "sorted_neighbors = get_sorted_neighbors_for_users(ratings_matrix)\n",
    "\n",
    "sorted_neighbors\n"
   ]
  },
  {
   "cell_type": "markdown",
   "metadata": {},
   "source": [
    "Predict rating based on knn"
   ]
  },
  {
   "cell_type": "code",
   "execution_count": 52,
   "metadata": {},
   "outputs": [
    {
     "data": {
      "text/plain": [
       "3"
      ]
     },
     "execution_count": 52,
     "metadata": {},
     "output_type": "execute_result"
    }
   ],
   "source": [
    "def predict_rating(ratings_matrix, sorted_neighbors, k, user_id, movie_id):\n",
    "    k_nearest_neighbors = sorted_neighbors[user_id, :k]\n",
    "\n",
    "    movie_ratings = ratings_matrix[k_nearest_neighbors, movie_id]\n",
    "    non_zero_movie_ratings = movie_ratings[movie_ratings > 0]\n",
    "\n",
    "    if len(non_zero_movie_ratings) == 0:  \n",
    "        return None\n",
    "    else:\n",
    "        return round(np.average(non_zero_movie_ratings))\n",
    "\n",
    "predict_rating(ratings_matrix, sorted_neighbors, 10000, 2, 2)"
   ]
  },
  {
   "cell_type": "markdown",
   "metadata": {},
   "source": [
    "Calculate and plot RMSE scores for different k values."
   ]
  },
  {
   "cell_type": "code",
   "execution_count": 59,
   "metadata": {},
   "outputs": [
    {
     "data": {
      "image/png": "[encoded data removed]",
      "text/plain": [
       "<Figure size 432x288 with 1 Axes>"
      ]
     },
     "metadata": {
      "needs_background": "light"
     },
     "output_type": "display_data"
    }
   ],
   "source": [
    "import math\n",
    "\n",
    "\n",
    "def calculate_RMSE_for_k(ratings_matrix, sorted_neighbors, k, test_ratings):\n",
    "    sum_of_roots = 0\n",
    "    n = 0\n",
    "\n",
    "    for test_rating in test_ratings.itertuples():\n",
    "        predicted_rating = predict_rating(ratings_matrix,\n",
    "                sorted_neighbors, k, test_rating[1], test_rating[2])\n",
    "        expected_rating = test_rating[3]\n",
    "\n",
    "        if predicted_rating is not None:\n",
    "            difference = expected_rating - predicted_rating\n",
    "            sum_of_roots += difference * difference\n",
    "            n += 1\n",
    "\n",
    "    return math.sqrt(sum_of_roots / n)\n",
    "\n",
    "\n",
    "import matplotlib.pyplot as plt\n",
    "\n",
    "xs = range(1, 200)\n",
    "ys = [calculate_RMSE_for_k(ratings_matrix, sorted_neighbors,\n",
    "    x, test_ratings) for x in xs]\n",
    "\n",
    "plt.plot(xs, ys)\n",
    "plt.xlabel('k')\n",
    "plt.ylabel('rmse')\n",
    "plt.show()"
   ]
  },
  {
   "cell_type": "code",
   "execution_count": 60,
   "metadata": {},
   "outputs": [
    {
     "data": {
      "text/plain": [
       "140"
      ]
     },
     "execution_count": 60,
     "metadata": {},
     "output_type": "execute_result"
    }
   ],
   "source": [
    "optimal_k = xs[ys.index(min(ys))]\n",
    "\n",
    "optimal_k"
   ]
  }
 ],
 "metadata": {
  "interpreter": {
   "hash": "e55666fbbf217aa3df372b978577f47b6009e2f78e2ec76a584f49cd54a1e62c"
  },
  "kernelspec": {
   "display_name": "Python 2.7.18 64-bit",
   "language": "python",
   "name": "python3"
  },
  "language_info": {
   "codemirror_mode": {
    "name": "ipython",
    "version": 3
   },
   "file_extension": ".py",
   "mimetype": "text/x-python",
   "name": "python",
   "nbconvert_exporter": "python",
   "pygments_lexer": "ipython3",
   "version": "3.8.10"
  },
  "orig_nbformat": 4
 },
 "nbformat": 4,
 "nbformat_minor": 2
}
