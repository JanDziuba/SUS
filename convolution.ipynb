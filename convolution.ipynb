{
 "cells": [
  {
   "cell_type": "code",
   "execution_count": 4,
   "metadata": {},
   "outputs": [
    {
     "name": "stdout",
     "output_type": "stream",
     "text": [
      "Files already downloaded and verified\n"
     ]
    }
   ],
   "source": [
    "from torchvision import datasets\n",
    "import torch\n",
    "import matplotlib.pyplot as plt\n",
    "\n",
    "data_path = '../data-unversioned/p1ch7/'\n",
    "cifar10 = datasets.CIFAR10(data_path, train=True, download=True)"
   ]
  },
  {
   "cell_type": "code",
   "execution_count": 5,
   "metadata": {},
   "outputs": [
    {
     "data": {
      "image/png": "[encoded data removed]",
      "text/plain": [
       "<Figure size 432x288 with 1 Axes>"
      ]
     },
     "metadata": {
      "needs_background": "light"
     },
     "output_type": "display_data"
    }
   ],
   "source": [
    "img, label = cifar10[4]\n",
    "plt.imshow(img)\n",
    "plt.show()"
   ]
  },
  {
   "cell_type": "code",
   "execution_count": 6,
   "metadata": {},
   "outputs": [
    {
     "data": {
      "text/plain": [
       "torch.Size([3, 32, 32])"
      ]
     },
     "execution_count": 6,
     "metadata": {},
     "output_type": "execute_result"
    }
   ],
   "source": [
    "from torchvision import transforms\n",
    "\n",
    "to_tensor = transforms.ToTensor()\n",
    "img_t = to_tensor(img) # turning image to tensor to pass it to NeuralNet\n",
    "img_t.shape # 3 channels of RGB, 32x32 size"
   ]
  },
  {
   "cell_type": "code",
   "execution_count": 7,
   "metadata": {},
   "outputs": [],
   "source": [
    "tensor_cifar10 = datasets.CIFAR10(data_path, train=True, download=False,\n",
    "                          transform=transforms.ToTensor())"
   ]
  },
  {
   "cell_type": "code",
   "execution_count": 8,
   "metadata": {},
   "outputs": [
    {
     "data": {
      "text/plain": [
       "torch.Size([3, 32, 32, 50000])"
      ]
     },
     "execution_count": 8,
     "metadata": {},
     "output_type": "execute_result"
    }
   ],
   "source": [
    "# stacking tensors in additional dimension\n",
    "imgs = torch.stack([img_t for img_t, _ in tensor_cifar10], dim=3)\n",
    "imgs.shape"
   ]
  },
  {
   "cell_type": "code",
   "execution_count": 9,
   "metadata": {},
   "outputs": [
    {
     "data": {
      "text/plain": [
       "tensor([0.2470, 0.2435, 0.2616])"
      ]
     },
     "execution_count": 9,
     "metadata": {},
     "output_type": "execute_result"
    }
   ],
   "source": [
    "std = imgs.view(3, -1).std(dim=1)\n",
    "std"
   ]
  },
  {
   "cell_type": "code",
   "execution_count": 10,
   "metadata": {},
   "outputs": [
    {
     "data": {
      "text/plain": [
       "tensor([0.4914, 0.4822, 0.4465])"
      ]
     },
     "execution_count": 10,
     "metadata": {},
     "output_type": "execute_result"
    }
   ],
   "source": [
    "mean = imgs.view(3, -1).mean(dim=1) \n",
    "mean"
   ]
  },
  {
   "cell_type": "code",
   "execution_count": 11,
   "metadata": {},
   "outputs": [],
   "source": [
    "from torchvision import transforms\n",
    "from torch.utils.data import random_split\n",
    "\n",
    "cifar10 = datasets.CIFAR10(\n",
    "    data_path, train=True, download=False,\n",
    "    transform=transforms.Compose([\n",
    "        transforms.ToTensor(),\n",
    "        transforms.Normalize(mean, std)\n",
    "    ]))\n",
    "\n",
    "val_size = 5000\n",
    "train_size = len(cifar10) - val_size\n",
    "\n",
    "train_ds, val_ds = random_split(cifar10, [train_size, val_size])\n",
    "\n",
    "test_ds = datasets.CIFAR10(\n",
    "    data_path, train=True, download=False,\n",
    "    transform=transforms.Compose([\n",
    "        transforms.ToTensor(),\n",
    "        transforms.Normalize(mean, std)\n",
    "    ]))"
   ]
  },
  {
   "cell_type": "code",
   "execution_count": 26,
   "metadata": {},
   "outputs": [],
   "source": [
    "from torch.utils.data.dataloader import DataLoader\n",
    "\n",
    "batch_size=128\n",
    "train_dl = DataLoader(train_ds, batch_size, shuffle=True, num_workers=4, pin_memory=True)\n",
    "test_dl = DataLoader(test_ds, batch_size, shuffle=True, num_workers=4, pin_memory=True)\n",
    "val_dl = DataLoader(val_ds, batch_size, shuffle=True, num_workers=4, pin_memory=True)"
   ]
  },
  {
   "cell_type": "code",
   "execution_count": 27,
   "metadata": {},
   "outputs": [],
   "source": [
    "from torch.nn import Module\n",
    "import numpy as np\n",
    "import torch.nn as nn\n",
    "import torch.nn.functional as F\n",
    "\n",
    "n_out = len(cifar10.classes)\n",
    "n_in = 3072\n",
    "\n",
    "\n",
    "class MLP(Module):\n",
    "    def __init__(self, n_in, n_out):\n",
    "        super().__init__()\n",
    "        self.linear1 = nn.Linear(n_in, 1024)\n",
    "        self.linear2 = nn.Linear(1024, 512)\n",
    "        self.linear3 = nn.Linear(512, 64)\n",
    "        self.linear4 = nn.Linear(64, 64)\n",
    "        self.linear5 = nn.Linear(64, n_out)\n",
    "        \n",
    "    def forward(self, xb):\n",
    "        out = xb.view(xb.size(0), -1)\n",
    "        out = self.linear1(out)\n",
    "        out = F.relu(out)\n",
    "        out = self.linear2(out)\n",
    "        out = F.relu(out)\n",
    "        out = self.linear3(out)\n",
    "        out = F.relu(out)\n",
    "        out = self.linear4(out)\n",
    "        out = F.relu(out)\n",
    "        out = self.linear5(out)\n",
    "        return out"
   ]
  },
  {
   "cell_type": "code",
   "execution_count": 40,
   "metadata": {},
   "outputs": [],
   "source": [
    "from numpy import hstack\n",
    "from sklearn.metrics import accuracy_score\n",
    "\n",
    "\n",
    "device = torch.device('cuda' if torch.cuda.is_available() else 'cpu')\n",
    "\n",
    "def get_acc(test_dl, model):\n",
    "    predictions, actuals = list(), list()\n",
    "    for i, (inputs, targets) in enumerate(test_dl):\n",
    "        inputs, targets = inputs.to(device), targets.to(device)\n",
    "        yhat = model(inputs)\n",
    "        yhat = yhat.detach().cpu().numpy()\n",
    "        actual = targets.cpu().numpy()\n",
    "        \n",
    "        yhat = np.argmax(yhat, axis=1)\n",
    "        predictions.append(yhat)\n",
    "        actuals.append(actual)\n",
    "    predictions, actuals = hstack(predictions), hstack(actuals)\n",
    "\n",
    "    return accuracy_score(actuals, predictions)\n",
    "\n",
    "\n",
    "def train_model(train_dl, val_dl, epochs, model, criterion, optimizer):\n",
    "    history = []\n",
    "    for epoch in range(epochs):\n",
    "        for i, (inputs, targets) in enumerate(train_dl):\n",
    "            inputs, targets = inputs.to(device), targets.to(device)\n",
    "            optimizer.zero_grad()\n",
    "            yhat = model(inputs)\n",
    "            loss = criterion(yhat, targets)\n",
    "            if i % 100 == 0:\n",
    "                print(f'epoch: {epoch} Loss after mini-batch {i}: {loss}')\n",
    "            loss.backward()\n",
    "            optimizer.step()\n",
    "\n",
    "        acc = get_acc(val_dl, model)\n",
    "        print(f'epoch: {epoch} accuracy: {acc}')\n",
    "        history.append(acc)\n",
    "\n",
    "    return history"
   ]
  },
  {
   "cell_type": "code",
   "execution_count": 41,
   "metadata": {},
   "outputs": [
    {
     "name": "stdout",
     "output_type": "stream",
     "text": [
      "epoch: 0 Loss after mini-batch 0: 2.303844451904297\n",
      "epoch: 0 Loss after mini-batch 100: 1.7682790756225586\n",
      "epoch: 0 Loss after mini-batch 200: 1.5724176168441772\n",
      "epoch: 0 Loss after mini-batch 300: 1.7933597564697266\n",
      "epoch: 0 accuracy: 0.4438\n",
      "Accuracy: 0.462\n"
     ]
    }
   ],
   "source": [
    "model = MLP(n_in, n_out)\n",
    "model.to(device)\n",
    "train_model(train_dl, val_dl, 1, model, nn.CrossEntropyLoss(), torch.optim.Adam(model.parameters(), lr=1e-3))\n",
    "acc = get_acc(test_dl, model)\n",
    "print('Accuracy: %.3f' % acc)"
   ]
  },
  {
   "cell_type": "code",
   "execution_count": 42,
   "metadata": {},
   "outputs": [],
   "source": [
    "class Net(nn.Module):\n",
    "    def __init__(self, n_out):\n",
    "        super().__init__()\n",
    "        self.network = nn.Sequential(\n",
    "            nn.Conv2d(3, 32, kernel_size=3, padding=1),\n",
    "            nn.ReLU(),\n",
    "            nn.Conv2d(32, 64, kernel_size=3, stride=1, padding=1),\n",
    "            nn.ReLU(),\n",
    "            nn.MaxPool2d(2, 2), # output: 64 x 16 x 16\n",
    "            nn.BatchNorm2d(64),\n",
    "\n",
    "            nn.Conv2d(64, 128, kernel_size=3, stride=1, padding=1),\n",
    "            nn.ReLU(),\n",
    "            nn.Conv2d(128, 128, kernel_size=3, stride=1, padding=1),\n",
    "            nn.ReLU(),\n",
    "            nn.MaxPool2d(2, 2), # output: 128 x 8 x 8\n",
    "            nn.BatchNorm2d(128),\n",
    "\n",
    "            nn.Conv2d(128, 256, kernel_size=3, stride=1, padding=1),\n",
    "            nn.ReLU(),\n",
    "            nn.Conv2d(256, 256, kernel_size=3, stride=1, padding=1),\n",
    "            nn.ReLU(),\n",
    "            nn.MaxPool2d(2, 2), # output: 256 x 4 x 4\n",
    "            nn.BatchNorm2d(256),\n",
    "\n",
    "            nn.Flatten(), \n",
    "            nn.Linear(256*4*4, 1024),\n",
    "            nn.ReLU(),\n",
    "            nn.Linear(1024, 512),\n",
    "            nn.ReLU(),\n",
    "            nn.Linear(512, n_out))\n",
    "        \n",
    "    def forward(self, x):\n",
    "        return self.network(x)"
   ]
  },
  {
   "cell_type": "code",
   "execution_count": 45,
   "metadata": {},
   "outputs": [
    {
     "name": "stdout",
     "output_type": "stream",
     "text": [
      "epoch: 0 Loss after mini-batch 0: 2.318315029144287\n",
      "epoch: 0 Loss after mini-batch 100: 1.408901572227478\n",
      "epoch: 0 Loss after mini-batch 200: 0.8727184534072876\n",
      "epoch: 0 Loss after mini-batch 300: 0.9203012585639954\n",
      "epoch: 0 accuracy: 0.7054\n",
      "epoch: 1 Loss after mini-batch 0: 0.8985525369644165\n",
      "epoch: 1 Loss after mini-batch 100: 0.6706856489181519\n",
      "epoch: 1 Loss after mini-batch 200: 0.6346564292907715\n",
      "epoch: 1 Loss after mini-batch 300: 0.6911699771881104\n",
      "epoch: 1 accuracy: 0.7776\n",
      "epoch: 2 Loss after mini-batch 0: 0.4727267026901245\n",
      "epoch: 2 Loss after mini-batch 100: 0.41165152192115784\n",
      "epoch: 2 Loss after mini-batch 200: 0.4722711443901062\n",
      "epoch: 2 Loss after mini-batch 300: 0.351956844329834\n",
      "epoch: 2 accuracy: 0.8044\n",
      "epoch: 3 Loss after mini-batch 0: 0.3189420998096466\n",
      "epoch: 3 Loss after mini-batch 100: 0.3167969584465027\n",
      "epoch: 3 Loss after mini-batch 200: 0.3822961449623108\n",
      "epoch: 3 Loss after mini-batch 300: 0.39171579480171204\n",
      "epoch: 3 accuracy: 0.812\n",
      "epoch: 4 Loss after mini-batch 0: 0.20243561267852783\n",
      "epoch: 4 Loss after mini-batch 100: 0.14879825711250305\n",
      "epoch: 4 Loss after mini-batch 200: 0.33802589774131775\n",
      "epoch: 4 Loss after mini-batch 300: 0.19085301458835602\n",
      "epoch: 4 accuracy: 0.8304\n",
      "epoch: 5 Loss after mini-batch 0: 0.11077187955379486\n",
      "epoch: 5 Loss after mini-batch 100: 0.08673752844333649\n",
      "epoch: 5 Loss after mini-batch 200: 0.0997571125626564\n",
      "epoch: 5 Loss after mini-batch 300: 0.13853809237480164\n",
      "epoch: 5 accuracy: 0.8096\n",
      "epoch: 6 Loss after mini-batch 0: 0.07305007427930832\n",
      "epoch: 6 Loss after mini-batch 100: 0.10588586330413818\n",
      "epoch: 6 Loss after mini-batch 200: 0.06162860989570618\n",
      "epoch: 6 Loss after mini-batch 300: 0.20689304172992706\n",
      "epoch: 6 accuracy: 0.83\n",
      "epoch: 7 Loss after mini-batch 0: 0.045542601495981216\n",
      "epoch: 7 Loss after mini-batch 100: 0.061714835464954376\n",
      "epoch: 7 Loss after mini-batch 200: 0.07664354145526886\n",
      "epoch: 7 Loss after mini-batch 300: 0.20859785377979279\n",
      "epoch: 7 accuracy: 0.8228\n",
      "epoch: 8 Loss after mini-batch 0: 0.04724222794175148\n",
      "epoch: 8 Loss after mini-batch 100: 0.0836443081498146\n",
      "epoch: 8 Loss after mini-batch 200: 0.058586131781339645\n",
      "epoch: 8 Loss after mini-batch 300: 0.10177082568407059\n",
      "epoch: 8 accuracy: 0.8224\n",
      "epoch: 9 Loss after mini-batch 0: 0.026790734380483627\n",
      "epoch: 9 Loss after mini-batch 100: 0.013898888602852821\n",
      "epoch: 9 Loss after mini-batch 200: 0.04609227180480957\n",
      "epoch: 9 Loss after mini-batch 300: 0.037544623017311096\n",
      "epoch: 9 accuracy: 0.829\n",
      "Accuracy: 0.973\n"
     ]
    },
    {
     "data": {
      "image/png": "[encoded data removed]",
      "text/plain": [
       "<Figure size 432x288 with 1 Axes>"
      ]
     },
     "metadata": {
      "needs_background": "light"
     },
     "output_type": "display_data"
    }
   ],
   "source": [
    "def plot_accuracies(history):\n",
    "    plt.plot(history, '-x')\n",
    "    plt.xlabel('epoch')\n",
    "    plt.ylabel('accuracy')\n",
    "    plt.title('Accuracy vs. No. of epochs')\n",
    "\n",
    "model = Net(n_out)\n",
    "model.to(device)\n",
    "history = train_model(train_dl, val_dl, 10, model, nn.CrossEntropyLoss(), torch.optim.Adam(model.parameters(), lr=1e-3))\n",
    "acc = get_acc(test_dl, model)\n",
    "print('Accuracy: %.3f' % acc)\n",
    "plot_accuracies(history)"
   ]
  },
  {
   "cell_type": "code",
   "execution_count": 46,
   "metadata": {},
   "outputs": [
    {
     "name": "stdout",
     "output_type": "stream",
     "text": [
      "epoch: 0 Loss after mini-batch 0: 2.2968695163726807\n",
      "epoch: 0 Loss after mini-batch 100: 1.9593614339828491\n",
      "epoch: 0 Loss after mini-batch 200: 1.6206046342849731\n",
      "epoch: 0 Loss after mini-batch 300: 1.4405831098556519\n",
      "epoch: 0 accuracy: 0.4902\n",
      "epoch: 1 Loss after mini-batch 0: 1.369407057762146\n",
      "epoch: 1 Loss after mini-batch 100: 1.2959461212158203\n",
      "epoch: 1 Loss after mini-batch 200: 1.243977427482605\n",
      "epoch: 1 Loss after mini-batch 300: 1.2282657623291016\n",
      "epoch: 1 accuracy: 0.5754\n",
      "epoch: 2 Loss after mini-batch 0: 1.1607130765914917\n",
      "epoch: 2 Loss after mini-batch 100: 1.0505067110061646\n",
      "epoch: 2 Loss after mini-batch 200: 1.2219914197921753\n",
      "epoch: 2 Loss after mini-batch 300: 0.8703412413597107\n",
      "epoch: 2 accuracy: 0.6154\n",
      "epoch: 3 Loss after mini-batch 0: 0.9271619915962219\n",
      "epoch: 3 Loss after mini-batch 100: 0.7728339433670044\n",
      "epoch: 3 Loss after mini-batch 200: 0.9491371512413025\n",
      "epoch: 3 Loss after mini-batch 300: 0.9204367995262146\n",
      "epoch: 3 accuracy: 0.6394\n",
      "epoch: 4 Loss after mini-batch 0: 0.7915211319923401\n",
      "epoch: 4 Loss after mini-batch 100: 0.9607542157173157\n",
      "epoch: 4 Loss after mini-batch 200: 0.9267979264259338\n",
      "epoch: 4 Loss after mini-batch 300: 0.9441400766372681\n",
      "epoch: 4 accuracy: 0.6556\n",
      "epoch: 5 Loss after mini-batch 0: 0.7161134481430054\n",
      "epoch: 5 Loss after mini-batch 100: 0.9130399227142334\n",
      "epoch: 5 Loss after mini-batch 200: 0.6825764775276184\n",
      "epoch: 5 Loss after mini-batch 300: 0.7841038703918457\n",
      "epoch: 5 accuracy: 0.6656\n",
      "epoch: 6 Loss after mini-batch 0: 0.5429078340530396\n",
      "epoch: 6 Loss after mini-batch 100: 0.6982617974281311\n",
      "epoch: 6 Loss after mini-batch 200: 0.717371940612793\n",
      "epoch: 6 Loss after mini-batch 300: 0.6390843391418457\n",
      "epoch: 6 accuracy: 0.6734\n",
      "epoch: 7 Loss after mini-batch 0: 0.5575976371765137\n",
      "epoch: 7 Loss after mini-batch 100: 0.6105167269706726\n",
      "epoch: 7 Loss after mini-batch 200: 0.45549067854881287\n",
      "epoch: 7 Loss after mini-batch 300: 0.5199286341667175\n",
      "epoch: 7 accuracy: 0.6816\n",
      "epoch: 8 Loss after mini-batch 0: 0.5532715320587158\n",
      "epoch: 8 Loss after mini-batch 100: 0.5593187212944031\n",
      "epoch: 8 Loss after mini-batch 200: 0.3902607858181\n",
      "epoch: 8 Loss after mini-batch 300: 0.3204514682292938\n",
      "epoch: 8 accuracy: 0.6788\n",
      "epoch: 9 Loss after mini-batch 0: 0.41760900616645813\n",
      "epoch: 9 Loss after mini-batch 100: 0.3393003046512604\n",
      "epoch: 9 Loss after mini-batch 200: 0.39608171582221985\n",
      "epoch: 9 Loss after mini-batch 300: 0.39194256067276\n",
      "epoch: 9 accuracy: 0.6822\n",
      "Accuracy: 0.892\n"
     ]
    },
    {
     "data": {
      "image/png": "[encoded data removed]",
      "text/plain": [
       "<Figure size 432x288 with 1 Axes>"
      ]
     },
     "metadata": {
      "needs_background": "light"
     },
     "output_type": "display_data"
    }
   ],
   "source": [
    "model = Net(n_out)\n",
    "model.to(device)\n",
    "history = train_model(train_dl, val_dl, 10, model, nn.CrossEntropyLoss(), torch.optim.Adam(model.parameters(), lr=1e-5))\n",
    "acc = get_acc(test_dl, model)\n",
    "print('Accuracy: %.3f' % acc)\n",
    "plot_accuracies(history)"
   ]
  },
  {
   "cell_type": "code",
   "execution_count": 48,
   "metadata": {},
   "outputs": [
    {
     "name": "stdout",
     "output_type": "stream",
     "text": [
      "epoch: 0 Loss after mini-batch 0: 2.300356388092041\n",
      "epoch: 0 Loss after mini-batch 100: 2.2805206775665283\n",
      "epoch: 0 Loss after mini-batch 200: 2.2354207038879395\n",
      "epoch: 0 Loss after mini-batch 300: 2.1789424419403076\n",
      "epoch: 0 accuracy: 0.2996\n",
      "epoch: 1 Loss after mini-batch 0: 2.1503982543945312\n",
      "epoch: 1 Loss after mini-batch 100: 2.09623122215271\n",
      "epoch: 1 Loss after mini-batch 200: 2.0564143657684326\n",
      "epoch: 1 Loss after mini-batch 300: 1.9305115938186646\n",
      "epoch: 1 accuracy: 0.3432\n",
      "epoch: 2 Loss after mini-batch 0: 1.882385015487671\n",
      "epoch: 2 Loss after mini-batch 100: 1.7947533130645752\n",
      "epoch: 2 Loss after mini-batch 200: 1.8308172225952148\n",
      "epoch: 2 Loss after mini-batch 300: 1.7687753438949585\n",
      "epoch: 2 accuracy: 0.3896\n",
      "epoch: 3 Loss after mini-batch 0: 1.7353147268295288\n",
      "epoch: 3 Loss after mini-batch 100: 1.728226661682129\n",
      "epoch: 3 Loss after mini-batch 200: 1.6274315118789673\n",
      "epoch: 3 Loss after mini-batch 300: 1.4315558671951294\n",
      "epoch: 3 accuracy: 0.4272\n",
      "epoch: 4 Loss after mini-batch 0: 1.6725503206253052\n",
      "epoch: 4 Loss after mini-batch 100: 1.5355663299560547\n",
      "epoch: 4 Loss after mini-batch 200: 1.5800763368606567\n",
      "epoch: 4 Loss after mini-batch 300: 1.4272348880767822\n",
      "epoch: 4 accuracy: 0.4522\n",
      "epoch: 5 Loss after mini-batch 0: 1.4471434354782104\n",
      "epoch: 5 Loss after mini-batch 100: 1.6317551136016846\n",
      "epoch: 5 Loss after mini-batch 200: 1.4534201622009277\n",
      "epoch: 5 Loss after mini-batch 300: 1.4575164318084717\n",
      "epoch: 5 accuracy: 0.4774\n",
      "epoch: 6 Loss after mini-batch 0: 1.3669285774230957\n",
      "epoch: 6 Loss after mini-batch 100: 1.3044967651367188\n",
      "epoch: 6 Loss after mini-batch 200: 1.319903016090393\n",
      "epoch: 6 Loss after mini-batch 300: 1.3758374452590942\n",
      "epoch: 6 accuracy: 0.5042\n",
      "epoch: 7 Loss after mini-batch 0: 1.4994531869888306\n",
      "epoch: 7 Loss after mini-batch 100: 1.235759973526001\n",
      "epoch: 7 Loss after mini-batch 200: 1.4135090112686157\n",
      "epoch: 7 Loss after mini-batch 300: 1.2898954153060913\n",
      "epoch: 7 accuracy: 0.5224\n",
      "epoch: 8 Loss after mini-batch 0: 1.1949573755264282\n",
      "epoch: 8 Loss after mini-batch 100: 1.3173415660858154\n",
      "epoch: 8 Loss after mini-batch 200: 1.352674961090088\n",
      "epoch: 8 Loss after mini-batch 300: 1.1899218559265137\n",
      "epoch: 8 accuracy: 0.5468\n",
      "epoch: 9 Loss after mini-batch 0: 1.2526696920394897\n",
      "epoch: 9 Loss after mini-batch 100: 1.180252194404602\n",
      "epoch: 9 Loss after mini-batch 200: 1.2023093700408936\n",
      "epoch: 9 Loss after mini-batch 300: 1.3442739248275757\n",
      "epoch: 9 accuracy: 0.5666\n",
      "Accuracy: 0.587\n"
     ]
    },
    {
     "data": {
      "image/png": "[encoded data removed]",
      "text/plain": [
       "<Figure size 432x288 with 1 Axes>"
      ]
     },
     "metadata": {
      "needs_background": "light"
     },
     "output_type": "display_data"
    }
   ],
   "source": [
    "model = Net(n_out)\n",
    "model.to(device)\n",
    "history = train_model(train_dl, val_dl, 10, model, nn.CrossEntropyLoss(), torch.optim.SGD(model.parameters(), lr=1e-3))\n",
    "acc = get_acc(test_dl, model)\n",
    "print('Accuracy: %.3f' % acc)\n",
    "plot_accuracies(history)"
   ]
  },
  {
   "cell_type": "code",
   "execution_count": null,
   "metadata": {},
   "outputs": [],
   "source": []
  },
  {
   "cell_type": "code",
   "execution_count": null,
   "metadata": {},
   "outputs": [],
   "source": []
  }
 ],
 "metadata": {
  "interpreter": {
   "hash": "e7370f93d1d0cde622a1f8e1c04877d8463912d04d973331ad4851f04de6915a"
  },
  "kernelspec": {
   "display_name": "Python 3.8.10 64-bit",
   "language": "python",
   "name": "python3"
  },
  "language_info": {
   "codemirror_mode": {
    "name": "ipython",
    "version": 3
   },
   "file_extension": ".py",
   "mimetype": "text/x-python",
   "name": "python",
   "nbconvert_exporter": "python",
   "pygments_lexer": "ipython3",
   "version": "3.8.10"
  },
  "orig_nbformat": 4
 },
 "nbformat": 4,
 "nbformat_minor": 2
}
